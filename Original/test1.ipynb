{
 "cells": [
  {
   "cell_type": "code",
   "execution_count": 3,
   "metadata": {},
   "outputs": [
    {
     "ename": "AttributeError",
     "evalue": "'tuple' object has no attribute 'fill'",
     "output_type": "error",
     "traceback": [
      "\u001b[1;31m---------------------------------------------------------------------------\u001b[0m",
      "\u001b[1;31mAttributeError\u001b[0m                            Traceback (most recent call last)",
      "Cell \u001b[1;32mIn[3], line 15\u001b[0m\n\u001b[0;32m     12\u001b[0m \u001b[38;5;66;03m# iterate through each cell in the selected sheet\u001b[39;00m\n\u001b[0;32m     13\u001b[0m \u001b[38;5;28;01mfor\u001b[39;00m cell \u001b[38;5;129;01min\u001b[39;00m sheet\u001b[38;5;241m.\u001b[39miter_rows():\n\u001b[0;32m     14\u001b[0m     \u001b[38;5;66;03m# check if the cell is yellow\u001b[39;00m\n\u001b[1;32m---> 15\u001b[0m     \u001b[38;5;28;01mif\u001b[39;00m \u001b[43mcell\u001b[49m\u001b[38;5;241;43m.\u001b[39;49m\u001b[43mfill\u001b[49m \u001b[38;5;241m==\u001b[39m \u001b[38;5;124m'\u001b[39m\u001b[38;5;124mFFFF00\u001b[39m\u001b[38;5;124m'\u001b[39m:\n\u001b[0;32m     16\u001b[0m         \u001b[38;5;66;03m# check if the cell has a number\u001b[39;00m\n\u001b[0;32m     17\u001b[0m         \u001b[38;5;28;01mif\u001b[39;00m \u001b[38;5;28misinstance\u001b[39m(cell\u001b[38;5;241m.\u001b[39mvalue, \u001b[38;5;28mint\u001b[39m):\n\u001b[0;32m     18\u001b[0m             \u001b[38;5;66;03m# if both conditions are True then change the cell value to 0\u001b[39;00m\n\u001b[0;32m     19\u001b[0m             cell\u001b[38;5;241m.\u001b[39mvalue \u001b[38;5;241m=\u001b[39m \u001b[38;5;241m0\u001b[39m\n",
      "\u001b[1;31mAttributeError\u001b[0m: 'tuple' object has no attribute 'fill'"
     ]
    }
   ],
   "source": [
    "import openpyxl\n",
    "import os\n",
    "\n",
    "os.chdir(\"P:\\Intel 자동화 검증\")\n",
    "\n",
    "# open the workbook\n",
    "wb = openpyxl.load_workbook('my_file.xlsx')\n",
    "\n",
    "# select the active sheet\n",
    "sheet = wb.active\n",
    "\n",
    "# iterate through each cell in the selected sheet\n",
    "for cell in sheet.iter_rows():\n",
    "    # check if the cell is yellow\n",
    "    if cell.fill == 'FFFF00':\n",
    "        # check if the cell has a number\n",
    "        if isinstance(cell.value, int):\n",
    "            # if both conditions are True then change the cell value to 0\n",
    "            cell.value = 0\n",
    "\n",
    "# save the workbook\n",
    "wb.save('example.xlsx')\n",
    "\n",
    "\n"
   ]
  },
  {
   "cell_type": "code",
   "execution_count": 1,
   "metadata": {},
   "outputs": [
    {
     "ename": "AttributeError",
     "evalue": "'tuple' object has no attribute 'fill'",
     "output_type": "error",
     "traceback": [
      "\u001b[1;31m---------------------------------------------------------------------------\u001b[0m",
      "\u001b[1;31mAttributeError\u001b[0m                            Traceback (most recent call last)",
      "Cell \u001b[1;32mIn[1], line 14\u001b[0m\n\u001b[0;32m     11\u001b[0m \u001b[38;5;66;03m#Iterate through all the cells in the sheet\u001b[39;00m\n\u001b[0;32m     12\u001b[0m \u001b[38;5;28;01mfor\u001b[39;00m cell \u001b[38;5;129;01min\u001b[39;00m sheet\u001b[38;5;241m.\u001b[39miter_rows():\n\u001b[0;32m     13\u001b[0m   \u001b[38;5;66;03m#Check if the cell has a yellow background color\u001b[39;00m\n\u001b[1;32m---> 14\u001b[0m   \u001b[38;5;28;01mif\u001b[39;00m \u001b[43mcell\u001b[49m\u001b[38;5;241;43m.\u001b[39;49m\u001b[43mfill\u001b[49m\u001b[38;5;241m.\u001b[39mfgColor\u001b[38;5;241m.\u001b[39mvalue \u001b[38;5;241m==\u001b[39m \u001b[38;5;124m'\u001b[39m\u001b[38;5;124mFFFF00\u001b[39m\u001b[38;5;124m'\u001b[39m:\n\u001b[0;32m     15\u001b[0m     \u001b[38;5;66;03m#Check if the cell has a number\u001b[39;00m\n\u001b[0;32m     16\u001b[0m     \u001b[38;5;28;01mif\u001b[39;00m cell\u001b[38;5;241m.\u001b[39mvalue \u001b[38;5;241m==\u001b[39m \u001b[38;5;28mint\u001b[39m(cell\u001b[38;5;241m.\u001b[39mvalue):\n\u001b[0;32m     17\u001b[0m       \u001b[38;5;66;03m#Set the cell value to 0\u001b[39;00m\n\u001b[0;32m     18\u001b[0m       cell\u001b[38;5;241m.\u001b[39mvalue \u001b[38;5;241m=\u001b[39m \u001b[38;5;241m0\u001b[39m\n",
      "\u001b[1;31mAttributeError\u001b[0m: 'tuple' object has no attribute 'fill'"
     ]
    }
   ],
   "source": [
    "\n",
    "import openpyxl #import openpyxl library\n",
    "import os\n",
    "\n",
    "os.chdir(\"P:\\Intel 자동화 검증\")\n",
    "#Open the Excel File\n",
    "wb = openpyxl.load_workbook('my_file.xlsx')\n",
    "\n",
    "#Access the first sheet\n",
    "sheet = wb.active\n",
    "\n",
    "#Iterate through all the cells in the sheet\n",
    "for cell in sheet.iter_rows():\n",
    "  #Check if the cell has a yellow background color\n",
    "  if cell.fill.fgColor.value == 'FFFF00':\n",
    "    #Check if the cell has a number\n",
    "    if cell.value == int(cell.value):\n",
    "      #Set the cell value to 0\n",
    "      cell.value = 0\n",
    "\n",
    "#Save the changes\n",
    "wb.save('my_file.xlsx')"
   ]
  },
  {
   "cell_type": "code",
   "execution_count": 6,
   "metadata": {},
   "outputs": [],
   "source": [
    "from openpyxl.styles import Font    # 폰트 설정 모듈 \n",
    "from openpyxl import Workbook\n",
    "\n",
    "wb = Workbook()\n",
    "ws = wb.active\n",
    "\n",
    "a1 = ws['A1']\n",
    "\n",
    "ft = Font(color=\"FF0000\")   # 폰트 변수 생성, 글자 색깔 빨간색응로\n",
    "\n",
    "a1.font = ft    # A1 셀에 폰트 변수 적용\n",
    "ws['B2'].font = ft  # # B2 셀에 폰트 변수 적용\n",
    "\n",
    "#a1.font.bold = True # 오류 발생 Style objects are immutable and cannot be changed.Reassign the style with a copy\n",
    "\n",
    "a1.font = Font(color=\"0000FF00\", bold=True, size=20, name='Arial')  # Font 새로 할당, 색 변경, 진하게, 크기 20, 글씨체 변경\n",
    "\n",
    "wb.save('sample_style.xlsx')"
   ]
  },
  {
   "cell_type": "code",
   "execution_count": 8,
   "metadata": {},
   "outputs": [],
   "source": [
    "from openpyxl.styles import Font    # 폰트 설정 모듈 \n",
    "from openpyxl import Workbook\n",
    "from copy import copy   # 복사 모듈\n",
    "import os\n",
    "\n",
    "os.chdir(\"P:\\Intel 자동화 검증\")\n",
    "\n",
    "wb = Workbook()\n",
    "ws = wb.active\n",
    "\n",
    "a1 = ws['A1']\n",
    "\n",
    "ft = Font(color=\"FF0000\")   # 폰트 변수 생성, 글자 빨간색\n",
    "\n",
    "a1.font = ft    # A1 셀에 폰트 변수 적용\n",
    "\n",
    "ft2 = copy(ft)      # copy 를 통한 스타일 복사 가능\n",
    "ft2.size = 30       # 복사한 스타일값에서 추가 수정 가능, 크기 30\n",
    "ft2.color=\"00FF00FF\"    # 복사한 스타일값에서 추가 수정 가능, 색 변경\n",
    "\n",
    "ws['A2'].font = ft2\t# A2 셀에 복사한 폰트 적용\n",
    "\n",
    "wb.save('sample_style.xlsx')"
   ]
  },
  {
   "cell_type": "code",
   "execution_count": 9,
   "metadata": {},
   "outputs": [],
   "source": [
    "## 컬러\n",
    "from openpyxl.styles import Color, PatternFill  # 필요한 모듈\n",
    "\n",
    "from openpyxl.styles import Font    # 폰트 설정 모듈 \n",
    "from openpyxl import Workbook\n",
    "from copy import copy   # 복사 모듈\n",
    "\n",
    "wb = Workbook()\n",
    "ws = wb.active\n",
    "\n",
    "color_index = 0 # color 인덱스 지정을 위한 변수\n",
    "for row_num in range(1,9):  # 8개 행 반복\n",
    "    for col_num in range(1,9):  # 8개 열 반복\n",
    "        color = Color(indexed=color_index)  # Color 인덱스에 인덱스 할당, 인덱스에 있는 색 지정됨\n",
    "        paint_cell = PatternFill(patternType='solid', fgColor=color)    # 위에서 할당한 색을 셀 색으로 할당하기 위함\n",
    "        select_cell = ws.cell(row=row_num, column=col_num)  # 셀 1개씩 순서대로 선택\n",
    "        select_cell.fill = paint_cell   # 선택된 셀에 인덱스에 맞는 셀 색 변경\n",
    "        color_index += 1    # 인덱스 값 증가\n",
    "\n",
    "wb.save('sample_style.xlsx')"
   ]
  },
  {
   "cell_type": "code",
   "execution_count": null,
   "metadata": {},
   "outputs": [],
   "source": [
    "from StyleFrame import StyleFrame\n",
    "\n",
    "sf = StyleFrame.read_excel('myfile.xlsx', read_style=True)\n",
    "[x.value for x in sf['column1'] if x.style.fill.bgColor.rgb == 'FFFFFF00']"
   ]
  }
 ],
 "metadata": {
  "kernelspec": {
   "display_name": "Python 3.8.10 64-bit",
   "language": "python",
   "name": "python3"
  },
  "language_info": {
   "codemirror_mode": {
    "name": "ipython",
    "version": 3
   },
   "file_extension": ".py",
   "mimetype": "text/x-python",
   "name": "python",
   "nbconvert_exporter": "python",
   "pygments_lexer": "ipython3",
   "version": "3.8.10"
  },
  "orig_nbformat": 4,
  "vscode": {
   "interpreter": {
    "hash": "e0144baad0ecee903f108a3e46e51ceadd7da3fc904cfa79747d813b61464b4e"
   }
  }
 },
 "nbformat": 4,
 "nbformat_minor": 2
}
