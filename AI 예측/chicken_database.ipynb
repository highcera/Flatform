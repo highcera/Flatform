{
 "cells": [
  {
   "cell_type": "code",
   "execution_count": 1,
   "metadata": {},
   "outputs": [],
   "source": [
    "import requests\n",
    "from tqdm import tqdm\n",
    "import time"
   ]
  },
  {
   "cell_type": "markdown",
   "metadata": {},
   "source": [
    "# 카카오 API\n",
    "\n",
    "- 키워드로 장소 검색: https://developers.kakao.com/docs/latest/ko/local/dev-guide#search-by-keyword\n",
    "- 카카오 개발자 API 키 발급: https://developers.kakao.com/\n",
    "  - App 생성\n",
    "  - REST API 키 복사, 붙여넣기"
   ]
  },
  {
   "cell_type": "code",
   "execution_count": 2,
   "metadata": {},
   "outputs": [
    {
     "name": "stdout",
     "output_type": "stream",
     "text": [
      "dict_keys(['documents', 'meta'])\n"
     ]
    }
   ],
   "source": [
    "app_key = 'KakaoAK ' + '2717863e0f967d83afc18fe429eac7e3'\n",
    "\n",
    "url = 'https://dapi.kakao.com/v2/local/search/keyword.json'\n",
    "\n",
    "params = {\n",
    "    'query': '치킨',\n",
    "    'category_group_code': 'FD6', # 음식점\n",
    "    'page': 45\n",
    "}\n",
    "\n",
    "headers = {\n",
    "    'Authorization': app_key\n",
    "}\n",
    "\n",
    "res = requests.get(url, params=params, headers=headers).json()\n",
    "\n",
    "print(res.keys())"
   ]
  },
  {
   "cell_type": "code",
   "execution_count": 3,
   "metadata": {},
   "outputs": [
    {
     "data": {
      "text/plain": [
       "[{'address_name': '서울 성북구 안암동5가 104-41',\n",
       "  'category_group_code': 'FD6',\n",
       "  'category_group_name': '음식점',\n",
       "  'category_name': '음식점 > 치킨',\n",
       "  'distance': '',\n",
       "  'id': '946837172',\n",
       "  'phone': '02-922-0077',\n",
       "  'place_name': '삼성통닭 본점',\n",
       "  'place_url': 'http://place.map.kakao.com/946837172',\n",
       "  'road_address_name': '서울 성북구 고려대로24길 60',\n",
       "  'x': '127.029336463953',\n",
       "  'y': '37.5834566502029'},\n",
       " {'address_name': '서울 마포구 서교동 402-4',\n",
       "  'category_group_code': 'FD6',\n",
       "  'category_group_name': '음식점',\n",
       "  'category_name': '음식점 > 치킨',\n",
       "  'distance': '',\n",
       "  'id': '26871883',\n",
       "  'phone': '02-324-7175',\n",
       "  'place_name': '철인7호치킨 홍대점',\n",
       "  'place_url': 'http://place.map.kakao.com/26871883',\n",
       "  'road_address_name': '서울 마포구 양화로6길 99-3',\n",
       "  'x': '126.919799225218',\n",
       "  'y': '37.5485032450096'},\n",
       " {'address_name': '서울 강남구 역삼동 817-8',\n",
       "  'category_group_code': 'FD6',\n",
       "  'category_group_name': '음식점',\n",
       "  'category_name': '음식점 > 치킨',\n",
       "  'distance': '',\n",
       "  'id': '888590919',\n",
       "  'phone': '02-554-9294',\n",
       "  'place_name': '꼬꼬아찌숯불치킨 강남역점',\n",
       "  'place_url': 'http://place.map.kakao.com/888590919',\n",
       "  'road_address_name': '서울 강남구 테헤란로1길 28-1',\n",
       "  'x': '127.027652789297',\n",
       "  'y': '37.5003128050196'},\n",
       " {'address_name': '부산 부산진구 부전동 168-138',\n",
       "  'category_group_code': 'FD6',\n",
       "  'category_group_name': '음식점',\n",
       "  'category_name': '음식점 > 치킨',\n",
       "  'distance': '',\n",
       "  'id': '23350363',\n",
       "  'phone': '051-818-8343',\n",
       "  'place_name': '철인7호치킨 서면점',\n",
       "  'place_url': 'http://place.map.kakao.com/23350363',\n",
       "  'road_address_name': '부산 부산진구 서전로10번길 31-3',\n",
       "  'x': '129.060131408047',\n",
       "  'y': '35.1564109847374'},\n",
       " {'address_name': '서울 동작구 상도동 192-2',\n",
       "  'category_group_code': 'FD6',\n",
       "  'category_group_name': '음식점',\n",
       "  'category_name': '음식점 > 치킨',\n",
       "  'distance': '',\n",
       "  'id': '16043925',\n",
       "  'phone': '02-825-0095',\n",
       "  'place_name': '고가네숯불구이통닭 본점',\n",
       "  'place_url': 'http://place.map.kakao.com/16043925',\n",
       "  'road_address_name': '서울 동작구 상도로 136',\n",
       "  'x': '126.93503040515998',\n",
       "  'y': '37.502161455763286'},\n",
       " {'address_name': '서울 종로구 낙원동 177',\n",
       "  'category_group_code': 'FD6',\n",
       "  'category_group_name': '음식점',\n",
       "  'category_name': '음식점 > 치킨',\n",
       "  'distance': '',\n",
       "  'id': '27494693',\n",
       "  'phone': '010-9053-0905',\n",
       "  'place_name': '한국통닭 종로3호점',\n",
       "  'place_url': 'http://place.map.kakao.com/27494693',\n",
       "  'road_address_name': '서울 종로구 수표로 110-1',\n",
       "  'x': '126.989418343565',\n",
       "  'y': '37.5710801596252'},\n",
       " {'address_name': '경기 수원시 팔달구 남수동 114-3',\n",
       "  'category_group_code': 'FD6',\n",
       "  'category_group_name': '음식점',\n",
       "  'category_name': '음식점 > 치킨',\n",
       "  'distance': '',\n",
       "  'id': '11162155',\n",
       "  'phone': '031-252-5190',\n",
       "  'place_name': '장안통닭',\n",
       "  'place_url': 'http://place.map.kakao.com/11162155',\n",
       "  'road_address_name': '경기 수원시 팔달구 팔달문로3번길 42',\n",
       "  'x': '127.017847459363',\n",
       "  'y': '37.2794271170333'},\n",
       " {'address_name': '서울 강동구 성내동 12-25',\n",
       "  'category_group_code': 'FD6',\n",
       "  'category_group_name': '음식점',\n",
       "  'category_name': '음식점 > 치킨',\n",
       "  'distance': '',\n",
       "  'id': '1758178236',\n",
       "  'phone': '02-474-9279',\n",
       "  'place_name': '천호누룽지통닭구이 성내점',\n",
       "  'place_url': 'http://place.map.kakao.com/1758178236',\n",
       "  'road_address_name': '서울 강동구 천호옛14길 35',\n",
       "  'x': '127.127454407045',\n",
       "  'y': '37.5360134915528'},\n",
       " {'address_name': '서울 서초구 방배동 425-1',\n",
       "  'category_group_code': 'FD6',\n",
       "  'category_group_name': '음식점',\n",
       "  'category_name': '음식점 > 치킨',\n",
       "  'distance': '',\n",
       "  'id': '762088017',\n",
       "  'phone': '02-581-8892',\n",
       "  'place_name': '이수통닭 본점',\n",
       "  'place_url': 'http://place.map.kakao.com/762088017',\n",
       "  'road_address_name': '서울 서초구 방배천로 92',\n",
       "  'x': '126.983243569037',\n",
       "  'y': '37.4845544339284'},\n",
       " {'address_name': '대구 남구 대명동 490-2',\n",
       "  'category_group_code': 'FD6',\n",
       "  'category_group_name': '음식점',\n",
       "  'category_name': '음식점 > 치킨',\n",
       "  'distance': '',\n",
       "  'id': '27081645',\n",
       "  'phone': '053-621-1055',\n",
       "  'place_name': '앞산옛날통닭',\n",
       "  'place_url': 'http://place.map.kakao.com/27081645',\n",
       "  'road_address_name': '대구 남구 현충로 61',\n",
       "  'x': '128.579604377125',\n",
       "  'y': '35.8383390716331'},\n",
       " {'address_name': '경기 의정부시 의정부동 150-11',\n",
       "  'category_group_code': 'FD6',\n",
       "  'category_group_name': '음식점',\n",
       "  'category_name': '음식점 > 치킨',\n",
       "  'distance': '',\n",
       "  'id': '12712643',\n",
       "  'phone': '031-846-4717',\n",
       "  'place_name': '용천통닭',\n",
       "  'place_url': 'http://place.map.kakao.com/12712643',\n",
       "  'road_address_name': '경기 의정부시 태평로89번길 8',\n",
       "  'x': '127.051095445106',\n",
       "  'y': '37.7406128004004'},\n",
       " {'address_name': '대구 수성구 두산동 625',\n",
       "  'category_group_code': 'FD6',\n",
       "  'category_group_name': '음식점',\n",
       "  'category_name': '음식점 > 치킨',\n",
       "  'distance': '',\n",
       "  'id': '27577399',\n",
       "  'phone': '053-763-5277',\n",
       "  'place_name': '만수통닭 수성못본점',\n",
       "  'place_url': 'http://place.map.kakao.com/27577399',\n",
       "  'road_address_name': '대구 수성구 수성못6길 7',\n",
       "  'x': '128.62280947205565',\n",
       "  'y': '35.82749924861839'},\n",
       " {'address_name': '경기 성남시 분당구 정자동 15-4',\n",
       "  'category_group_code': 'FD6',\n",
       "  'category_group_name': '음식점',\n",
       "  'category_name': '음식점 > 치킨',\n",
       "  'distance': '',\n",
       "  'id': '12562298',\n",
       "  'phone': '031-715-9972',\n",
       "  'place_name': '행복치킨 정자점',\n",
       "  'place_url': 'http://place.map.kakao.com/12562298',\n",
       "  'road_address_name': '경기 성남시 분당구 정자일로232번길 25',\n",
       "  'x': '127.10740512125396',\n",
       "  'y': '37.36990196705192'},\n",
       " {'address_name': '서울 서초구 반포동 746-9',\n",
       "  'category_group_code': 'FD6',\n",
       "  'category_group_name': '음식점',\n",
       "  'category_name': '음식점 > 치킨',\n",
       "  'distance': '',\n",
       "  'id': '8206545',\n",
       "  'phone': '02-511-0976',\n",
       "  'place_name': '금강바비큐치킨',\n",
       "  'place_url': 'http://place.map.kakao.com/8206545',\n",
       "  'road_address_name': '서울 서초구 사평대로 349',\n",
       "  'x': '127.021112618825',\n",
       "  'y': '37.5037235608715'},\n",
       " {'address_name': '제주특별자치도 서귀포시 서귀동 278-10',\n",
       "  'category_group_code': 'FD6',\n",
       "  'category_group_name': '음식점',\n",
       "  'category_name': '음식점 > 치킨',\n",
       "  'distance': '',\n",
       "  'id': '2089542578',\n",
       "  'phone': '064-738-3521',\n",
       "  'place_name': '마농치킨 2호점',\n",
       "  'place_url': 'http://place.map.kakao.com/2089542578',\n",
       "  'road_address_name': '제주특별자치도 서귀포시 중앙로62번길 13',\n",
       "  'x': '126.562844071267',\n",
       "  'y': '33.2503903379929'}]"
      ]
     },
     "execution_count": 3,
     "metadata": {},
     "output_type": "execute_result"
    }
   ],
   "source": [
    "res['documents']"
   ]
  },
  {
   "cell_type": "code",
   "execution_count": 4,
   "metadata": {},
   "outputs": [
    {
     "data": {
      "text/plain": [
       "{'is_end': True,\n",
       " 'pageable_count': 45,\n",
       " 'same_name': {'keyword': '치킨', 'region': [], 'selected_region': ''},\n",
       " 'total_count': 62669}"
      ]
     },
     "execution_count": 4,
     "metadata": {},
     "output_type": "execute_result"
    }
   ],
   "source": [
    "res['meta']"
   ]
  },
  {
   "cell_type": "markdown",
   "metadata": {},
   "source": [
    "# 한계\n",
    "- 45페이지까지의 값밖에 받아올 수 없음"
   ]
  },
  {
   "cell_type": "code",
   "execution_count": 5,
   "metadata": {},
   "outputs": [
    {
     "name": "stdout",
     "output_type": "stream",
     "text": [
      "{'errorType': 'InvalidArgument', 'message': 'page is more than max'}\n"
     ]
    }
   ],
   "source": [
    "params = {\n",
    "    'query': '치킨',\n",
    "    'page': 46\n",
    "}\n",
    "\n",
    "res = requests.get(url, params=params, headers=headers).json()\n",
    "\n",
    "print(res)"
   ]
  },
  {
   "cell_type": "markdown",
   "metadata": {},
   "source": [
    "# TinyDB"
   ]
  },
  {
   "cell_type": "code",
   "execution_count": 8,
   "metadata": {},
   "outputs": [
    {
     "name": "stdout",
     "output_type": "stream",
     "text": [
      "Collecting tinydb\n",
      "  Downloading tinydb-4.8.0-py3-none-any.whl (24 kB)\n",
      "Installing collected packages: tinydb\n",
      "Successfully installed tinydb-4.8.0\n"
     ]
    },
    {
     "name": "stderr",
     "output_type": "stream",
     "text": [
      "\n",
      "[notice] A new release of pip available: 22.3.1 -> 23.1.2\n",
      "[notice] To update, run: python.exe -m pip install --upgrade pip\n"
     ]
    }
   ],
   "source": [
    "!pip install tinydb"
   ]
  },
  {
   "cell_type": "code",
   "execution_count": 11,
   "metadata": {},
   "outputs": [],
   "source": [
    "from tinydb import TinyDB, Query\n",
    "\n",
    "db = TinyDB('db.json')"
   ]
  },
  {
   "cell_type": "markdown",
   "metadata": {},
   "source": [
    "# 분할 검색\n",
    "\n",
    "- 우리나라 지도를 위경도 0.25 단위의 작은 사각형으로 쪼개어 검색\n",
    "- 상세페이지에서 가격 긁어오기 https://place.map.kakao.com/main/v/9847579\n",
    "- IP 차단 피하기 위해 5초 대기\n",
    "- DB 저장\n",
    "  - place_name: 음식점 이름\n",
    "  - menu: 메뉴 이름\n",
    "  - price: 가격"
   ]
  },
  {
   "cell_type": "code",
   "execution_count": 10,
   "metadata": {
    "scrolled": true
   },
   "outputs": [
    {
     "name": "stderr",
     "output_type": "stream",
     "text": [
      "  0%|          | 0/18 [00:00<?, ?it/s]"
     ]
    },
    {
     "name": "stdout",
     "output_type": "stream",
     "text": [
      "126.0 33.0\n",
      "126.0 33.25\n",
      "126.0 33.5\n",
      "126.0 33.75\n",
      "126.0 34.0\n",
      "126.0 34.25\n",
      "126.0 34.5\n",
      "126.0 34.75\n",
      "126.0 35.0\n",
      "126.0 35.25\n",
      "126.0 35.5\n",
      "126.0 35.75\n",
      "126.0 36.0\n",
      "126.0 36.25\n",
      "126.0 36.5\n",
      "126.0 36.75\n",
      "126.0 37.0\n",
      "126.0 37.25\n",
      "126.0 37.5\n",
      "126.0 37.75\n",
      "126.0 38.0\n",
      "126.0 38.25\n",
      "126.0 38.5\n",
      "126.0 38.75\n",
      "126.0 39.0\n",
      "126.0 39.25\n"
     ]
    },
    {
     "name": "stderr",
     "output_type": "stream",
     "text": [
      "  6%|▌         | 1/18 [02:56<49:53, 176.11s/it]"
     ]
    },
    {
     "name": "stdout",
     "output_type": "stream",
     "text": [
      "126.25 33.0\n",
      "126.25 33.25\n"
     ]
    },
    {
     "name": "stderr",
     "output_type": "stream",
     "text": [
      "  6%|▌         | 1/18 [06:08<1:44:26, 368.64s/it]\n"
     ]
    },
    {
     "ename": "ValueError",
     "evalue": "invalid literal for int() with base 10: '변동가격'",
     "output_type": "error",
     "traceback": [
      "\u001b[1;31m---------------------------------------------------------------------------\u001b[0m",
      "\u001b[1;31mValueError\u001b[0m                                Traceback (most recent call last)",
      "Cell \u001b[1;32mIn[10], line 40\u001b[0m\n\u001b[0;32m     38\u001b[0m     price \u001b[39m=\u001b[39m \u001b[39m0\u001b[39m\n\u001b[0;32m     39\u001b[0m     \u001b[39mif\u001b[39;00m \u001b[39m'\u001b[39m\u001b[39mprice\u001b[39m\u001b[39m'\u001b[39m \u001b[39min\u001b[39;00m menu_item:\n\u001b[1;32m---> 40\u001b[0m         price \u001b[39m=\u001b[39m \u001b[39mint\u001b[39;49m(menu_item[\u001b[39m'\u001b[39;49m\u001b[39mprice\u001b[39;49m\u001b[39m'\u001b[39;49m]\u001b[39m.\u001b[39;49mreplace(\u001b[39m'\u001b[39;49m\u001b[39m,\u001b[39;49m\u001b[39m'\u001b[39;49m, \u001b[39m'\u001b[39;49m\u001b[39m'\u001b[39;49m))\n\u001b[0;32m     42\u001b[0m     db\u001b[39m.\u001b[39minsert({\n\u001b[0;32m     43\u001b[0m         \u001b[39m'\u001b[39m\u001b[39mplace_name\u001b[39m\u001b[39m'\u001b[39m: place_name,\n\u001b[0;32m     44\u001b[0m         \u001b[39m'\u001b[39m\u001b[39mmenu\u001b[39m\u001b[39m'\u001b[39m: menu_item[\u001b[39m'\u001b[39m\u001b[39mmenu\u001b[39m\u001b[39m'\u001b[39m],\n\u001b[0;32m     45\u001b[0m         \u001b[39m'\u001b[39m\u001b[39mprice\u001b[39m\u001b[39m'\u001b[39m: price\n\u001b[0;32m     46\u001b[0m     })\n\u001b[0;32m     48\u001b[0m time\u001b[39m.\u001b[39msleep(\u001b[39m5\u001b[39m)\n",
      "\u001b[1;31mValueError\u001b[0m: invalid literal for int() with base 10: '변동가격'"
     ]
    }
   ],
   "source": [
    "start_x = 126 # 126.0 - 130.0\n",
    "start_y = 33 # 33.0 - 39.0\n",
    "\n",
    "dx = 0.25\n",
    "dy = 0.25\n",
    "\n",
    "for i in tqdm(range(18)):\n",
    "    for j in range(26):\n",
    "        x = start_x + dx * i\n",
    "        y = start_y + dy * j\n",
    "        print(x, y)\n",
    "\n",
    "        for page in range(1, 46):\n",
    "            params = {\n",
    "                'query': '치킨',\n",
    "                'page': page,\n",
    "                'rect': f'{x},{y},{x + dx},{y + dy}'\n",
    "            }\n",
    "\n",
    "            res = requests.get(url, params=params, headers=headers).json()\n",
    "            \n",
    "            if len(res['documents']) == 0:\n",
    "                break\n",
    "\n",
    "            for doc in res['documents']:\n",
    "                place_name = doc['place_name']\n",
    "\n",
    "                detail_url = f'https://place.map.kakao.com/main/v/{doc[\"id\"]}'\n",
    "\n",
    "                data = requests.get(detail_url, headers=headers).json()\n",
    "\n",
    "                if 'menuInfo' not in data:\n",
    "                    continue\n",
    "\n",
    "                menu_list = data['menuInfo']['menuList']\n",
    "\n",
    "                for menu_item in menu_list:\n",
    "                    price = 0\n",
    "                    if 'price' in menu_item:\n",
    "                        price = int(menu_item['price'].replace(',', ''))\n",
    "\n",
    "                    db.insert({\n",
    "                        'place_name': place_name,\n",
    "                        'menu': menu_item['menu'],\n",
    "                        'price': price\n",
    "                    })\n",
    "                \n",
    "                time.sleep(5)\n",
    "\n",
    "            if res['meta']['is_end']:\n",
    "                break"
   ]
  },
  {
   "cell_type": "markdown",
   "metadata": {},
   "source": [
    "# 저장된 결과 확인"
   ]
  },
  {
   "cell_type": "code",
   "execution_count": 12,
   "metadata": {},
   "outputs": [
    {
     "data": {
      "text/plain": [
       "<TinyDB tables=['_default'], tables_count=1, default_table_documents_count=621, all_tables_documents_count=['_default=621']>"
      ]
     },
     "execution_count": 12,
     "metadata": {},
     "output_type": "execute_result"
    }
   ],
   "source": [
    "db"
   ]
  },
  {
   "cell_type": "markdown",
   "metadata": {},
   "source": [
    "# 35000원 초과하는 메뉴 검색"
   ]
  },
  {
   "cell_type": "code",
   "execution_count": 13,
   "metadata": {
    "scrolled": true
   },
   "outputs": [
    {
     "data": {
      "text/plain": [
       "[{'place_name': '마담나탈리소셜클럽', 'menu': '글렌피딕 15Y', 'price': 250000},\n",
       " {'place_name': '밤나무옻닭', 'menu': '옻닭', 'price': 70000},\n",
       " {'place_name': '밤나무옻닭', 'menu': '옻오리탕', 'price': 80000},\n",
       " {'place_name': '밤나무옻닭', 'menu': '한방백숙', 'price': 70000},\n",
       " {'place_name': '밤나무옻닭', 'menu': '한방오리탕', 'price': 80000},\n",
       " {'place_name': '밤나무옻닭', 'menu': '닭볶음탕', 'price': 55000},\n",
       " {'place_name': '밤나무옻닭', 'menu': '꽃게탕', 'price': 50000},\n",
       " {'place_name': '오복식당', 'menu': '우럭매운탕(중)', 'price': 40000},\n",
       " {'place_name': '오복식당', 'menu': '우럭건작탕(중)', 'price': 50000},\n",
       " {'place_name': '굽네치킨 모슬포점',\n",
       "  'menu': '남해마늘바사삭+리코타&브리 시카고피자+콜라1.25L',\n",
       "  'price': 39900},\n",
       " {'place_name': '굽네치킨 모슬포점',\n",
       "  'menu': '불금치킨+리코타&브리 시카고피자+콜라1.25L',\n",
       "  'price': 38900},\n",
       " {'place_name': '굽네치킨 모슬포점',\n",
       "  'menu': '오븐바사삭+리코타&브리 시카고피자+콜라1.25L',\n",
       "  'price': 37900},\n",
       " {'place_name': '누바비치', 'menu': 'Wagyu Steak 와규스테이크', 'price': 42000},\n",
       " {'place_name': '만추안', 'menu': '한우 안심', 'price': 65000},\n",
       " {'place_name': '만추안', 'menu': '토마토를 넣은 칠리 새우', 'price': 48000},\n",
       " {'place_name': '만추안', 'menu': '제주 흑돼지 탕수육', 'price': 45000},\n",
       " {'place_name': '만추안', 'menu': '짬뽕', 'price': 45000},\n",
       " {'place_name': '요망진브릭', 'menu': '흑돼지 근고기 600g 세트', 'price': 60000}]"
      ]
     },
     "execution_count": 13,
     "metadata": {},
     "output_type": "execute_result"
    }
   ],
   "source": [
    "db.search(Query().price > 35000)"
   ]
  },
  {
   "cell_type": "markdown",
   "metadata": {},
   "source": [
    "# 35000 초과 AND \"치\" 포함"
   ]
  },
  {
   "cell_type": "code",
   "execution_count": 14,
   "metadata": {},
   "outputs": [
    {
     "data": {
      "text/plain": [
       "[{'place_name': '굽네치킨 모슬포점',\n",
       "  'menu': '불금치킨+리코타&브리 시카고피자+콜라1.25L',\n",
       "  'price': 38900}]"
      ]
     },
     "execution_count": 14,
     "metadata": {},
     "output_type": "execute_result"
    }
   ],
   "source": [
    "db.search((Query().price > 35000) & (Query().menu.search('치')))"
   ]
  },
  {
   "cell_type": "markdown",
   "metadata": {},
   "source": [
    "# 전국 치킨 평균 가격\n",
    "\n",
    "- 프랜차이즈를 모두 포함하여 정확한 가격은 아님"
   ]
  },
  {
   "cell_type": "code",
   "execution_count": 15,
   "metadata": {},
   "outputs": [
    {
     "name": "stdout",
     "output_type": "stream",
     "text": [
      "치킨 287개의 평균 가격은 19177.35원 입니다\n"
     ]
    }
   ],
   "source": [
    "chickens = db.search(Query().menu.search('치'))\n",
    "\n",
    "prices = []\n",
    "\n",
    "for chicken in chickens:\n",
    "    prices.append(chicken['price'])\n",
    "    \n",
    "avg_price = sum(prices) / len(prices)\n",
    "\n",
    "print('치킨 %d개의 평균 가격은 %.2f원 입니다' % (len(chickens), avg_price))"
   ]
  },
  {
   "cell_type": "markdown",
   "metadata": {},
   "source": [
    "# 가격 분포 그래프"
   ]
  },
  {
   "cell_type": "code",
   "execution_count": 16,
   "metadata": {},
   "outputs": [
    {
     "data": {
      "text/plain": [
       "<AxesSubplot: ylabel='Count'>"
      ]
     },
     "execution_count": 16,
     "metadata": {},
     "output_type": "execute_result"
    },
    {
     "data": {
      "image/png": "[encoded data removed]",
      "text/plain": [
       "<Figure size 2000x1000 with 1 Axes>"
      ]
     },
     "metadata": {},
     "output_type": "display_data"
    }
   ],
   "source": [
    "import seaborn as sns\n",
    "import matplotlib.pyplot as plt\n",
    "\n",
    "fig, ax = plt.subplots(figsize=(20, 10))\n",
    "sns.histplot(x=prices, ax=ax)"
   ]
  },
  {
   "cell_type": "code",
   "execution_count": null,
   "metadata": {},
   "outputs": [],
   "source": []
  }
 ],
 "metadata": {
  "kernelspec": {
   "display_name": "Python 3",
   "language": "python",
   "name": "python3"
  },
  "language_info": {
   "codemirror_mode": {
    "name": "ipython",
    "version": 3
   },
   "file_extension": ".py",
   "mimetype": "text/x-python",
   "name": "python",
   "nbconvert_exporter": "python",
   "pygments_lexer": "ipython3",
   "version": "3.8.10"
  }
 },
 "nbformat": 4,
 "nbformat_minor": 4
}
