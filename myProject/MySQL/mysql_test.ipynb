{
 "cells": [
  {
   "cell_type": "code",
   "execution_count": 1,
   "metadata": {},
   "outputs": [
    {
     "name": "stderr",
     "output_type": "stream",
     "text": [
      "c:\\Users\\highc\\AppData\\Local\\Programs\\Python\\Python38\\lib\\site-packages\\mysql\\connector\\abstracts.py:130: SyntaxWarning: \"is\" with a literal. Did you mean \"==\"?\n",
      "  if group is 'connector_python':\n",
      "c:\\Users\\highc\\AppData\\Local\\Programs\\Python\\Python38\\lib\\site-packages\\mysql\\connector\\abstracts.py:130: SyntaxWarning: \"is\" with a literal. Did you mean \"==\"?\n",
      "  if group is 'connector_python':\n"
     ]
    },
    {
     "ename": "ProgrammingError",
     "evalue": "1045 (28000): Access denied for user 'root'@'localhost' (using password: YES)",
     "output_type": "error",
     "traceback": [
      "\u001b[1;31m---------------------------------------------------------------------------\u001b[0m",
      "\u001b[1;31mProgrammingError\u001b[0m                          Traceback (most recent call last)",
      "Cell \u001b[1;32mIn[1], line 5\u001b[0m\n\u001b[0;32m      2\u001b[0m \u001b[39mimport\u001b[39;00m \u001b[39mpandas\u001b[39;00m \u001b[39mas\u001b[39;00m \u001b[39mpd\u001b[39;00m\n\u001b[0;32m      3\u001b[0m \u001b[39mimport\u001b[39;00m \u001b[39mopenpyxl\u001b[39;00m\n\u001b[1;32m----> 5\u001b[0m local \u001b[39m=\u001b[39m mysql\u001b[39m.\u001b[39;49mconnector\u001b[39m.\u001b[39;49mconnect(\n\u001b[0;32m      6\u001b[0m             host \u001b[39m=\u001b[39;49m \u001b[39m\"\u001b[39;49m\u001b[39mlocalhost\u001b[39;49m\u001b[39m\"\u001b[39;49m,\n\u001b[0;32m      7\u001b[0m             \u001b[39m# port = 3306,\u001b[39;49;00m\n\u001b[0;32m      8\u001b[0m             user \u001b[39m=\u001b[39;49m \u001b[39m\"\u001b[39;49m\u001b[39mroot\u001b[39;49m\u001b[39m\"\u001b[39;49m,\n\u001b[0;32m      9\u001b[0m             password \u001b[39m=\u001b[39;49m \u001b[39m\"\u001b[39;49m\u001b[39mdark##2993\u001b[39;49m\u001b[39m\"\u001b[39;49m,\n\u001b[0;32m     10\u001b[0m             database \u001b[39m=\u001b[39;49m \u001b[39m\"\u001b[39;49m\u001b[39mstock_db\u001b[39;49m\u001b[39m\"\u001b[39;49m\n\u001b[0;32m     11\u001b[0m             )\n",
      "File \u001b[1;32mc:\\Users\\highc\\AppData\\Local\\Programs\\Python\\Python38\\lib\\site-packages\\mysql\\connector\\__init__.py:179\u001b[0m, in \u001b[0;36mconnect\u001b[1;34m(*args, **kwargs)\u001b[0m\n\u001b[0;32m    177\u001b[0m     \u001b[39mreturn\u001b[39;00m CMySQLConnection(\u001b[39m*\u001b[39margs, \u001b[39m*\u001b[39m\u001b[39m*\u001b[39mkwargs)\n\u001b[0;32m    178\u001b[0m \u001b[39melse\u001b[39;00m:\n\u001b[1;32m--> 179\u001b[0m     \u001b[39mreturn\u001b[39;00m MySQLConnection(\u001b[39m*\u001b[39;49margs, \u001b[39m*\u001b[39;49m\u001b[39m*\u001b[39;49mkwargs)\n",
      "File \u001b[1;32mc:\\Users\\highc\\AppData\\Local\\Programs\\Python\\Python38\\lib\\site-packages\\mysql\\connector\\connection.py:95\u001b[0m, in \u001b[0;36mMySQLConnection.__init__\u001b[1;34m(self, *args, **kwargs)\u001b[0m\n\u001b[0;32m     92\u001b[0m \u001b[39mself\u001b[39m\u001b[39m.\u001b[39m_pool_config_version \u001b[39m=\u001b[39m \u001b[39mNone\u001b[39;00m\n\u001b[0;32m     94\u001b[0m \u001b[39mif\u001b[39;00m \u001b[39mlen\u001b[39m(kwargs) \u001b[39m>\u001b[39m \u001b[39m0\u001b[39m:\n\u001b[1;32m---> 95\u001b[0m     \u001b[39mself\u001b[39;49m\u001b[39m.\u001b[39;49mconnect(\u001b[39m*\u001b[39;49m\u001b[39m*\u001b[39;49mkwargs)\n",
      "File \u001b[1;32mc:\\Users\\highc\\AppData\\Local\\Programs\\Python\\Python38\\lib\\site-packages\\mysql\\connector\\abstracts.py:716\u001b[0m, in \u001b[0;36mMySQLConnectionAbstract.connect\u001b[1;34m(self, **kwargs)\u001b[0m\n\u001b[0;32m    713\u001b[0m     \u001b[39mself\u001b[39m\u001b[39m.\u001b[39mconfig(\u001b[39m*\u001b[39m\u001b[39m*\u001b[39mkwargs)\n\u001b[0;32m    715\u001b[0m \u001b[39mself\u001b[39m\u001b[39m.\u001b[39mdisconnect()\n\u001b[1;32m--> 716\u001b[0m \u001b[39mself\u001b[39;49m\u001b[39m.\u001b[39;49m_open_connection()\n\u001b[0;32m    717\u001b[0m \u001b[39mself\u001b[39m\u001b[39m.\u001b[39m_post_connection()\n",
      "File \u001b[1;32mc:\\Users\\highc\\AppData\\Local\\Programs\\Python\\Python38\\lib\\site-packages\\mysql\\connector\\connection.py:208\u001b[0m, in \u001b[0;36mMySQLConnection._open_connection\u001b[1;34m(self)\u001b[0m\n\u001b[0;32m    206\u001b[0m \u001b[39mself\u001b[39m\u001b[39m.\u001b[39m_socket\u001b[39m.\u001b[39mopen_connection()\n\u001b[0;32m    207\u001b[0m \u001b[39mself\u001b[39m\u001b[39m.\u001b[39m_do_handshake()\n\u001b[1;32m--> 208\u001b[0m \u001b[39mself\u001b[39;49m\u001b[39m.\u001b[39;49m_do_auth(\u001b[39mself\u001b[39;49m\u001b[39m.\u001b[39;49m_user, \u001b[39mself\u001b[39;49m\u001b[39m.\u001b[39;49m_password,\n\u001b[0;32m    209\u001b[0m               \u001b[39mself\u001b[39;49m\u001b[39m.\u001b[39;49m_database, \u001b[39mself\u001b[39;49m\u001b[39m.\u001b[39;49m_client_flags, \u001b[39mself\u001b[39;49m\u001b[39m.\u001b[39;49m_charset_id,\n\u001b[0;32m    210\u001b[0m               \u001b[39mself\u001b[39;49m\u001b[39m.\u001b[39;49m_ssl)\n\u001b[0;32m    211\u001b[0m \u001b[39mself\u001b[39m\u001b[39m.\u001b[39mset_converter_class(\u001b[39mself\u001b[39m\u001b[39m.\u001b[39m_converter_class)\n\u001b[0;32m    212\u001b[0m \u001b[39mif\u001b[39;00m \u001b[39mself\u001b[39m\u001b[39m.\u001b[39m_client_flags \u001b[39m&\u001b[39m ClientFlag\u001b[39m.\u001b[39mCOMPRESS:\n",
      "File \u001b[1;32mc:\\Users\\highc\\AppData\\Local\\Programs\\Python\\Python38\\lib\\site-packages\\mysql\\connector\\connection.py:144\u001b[0m, in \u001b[0;36mMySQLConnection._do_auth\u001b[1;34m(self, username, password, database, client_flags, charset, ssl_options)\u001b[0m\n\u001b[0;32m    137\u001b[0m packet \u001b[39m=\u001b[39m \u001b[39mself\u001b[39m\u001b[39m.\u001b[39m_protocol\u001b[39m.\u001b[39mmake_auth(\n\u001b[0;32m    138\u001b[0m     handshake\u001b[39m=\u001b[39m\u001b[39mself\u001b[39m\u001b[39m.\u001b[39m_handshake,\n\u001b[0;32m    139\u001b[0m     username\u001b[39m=\u001b[39musername, password\u001b[39m=\u001b[39mpassword, database\u001b[39m=\u001b[39mdatabase,\n\u001b[0;32m    140\u001b[0m     charset\u001b[39m=\u001b[39mcharset, client_flags\u001b[39m=\u001b[39mclient_flags,\n\u001b[0;32m    141\u001b[0m     ssl_enabled\u001b[39m=\u001b[39m\u001b[39mself\u001b[39m\u001b[39m.\u001b[39m_ssl_active,\n\u001b[0;32m    142\u001b[0m     auth_plugin\u001b[39m=\u001b[39m\u001b[39mself\u001b[39m\u001b[39m.\u001b[39m_auth_plugin)\n\u001b[0;32m    143\u001b[0m \u001b[39mself\u001b[39m\u001b[39m.\u001b[39m_socket\u001b[39m.\u001b[39msend(packet)\n\u001b[1;32m--> 144\u001b[0m \u001b[39mself\u001b[39;49m\u001b[39m.\u001b[39;49m_auth_switch_request(username, password)\n\u001b[0;32m    146\u001b[0m \u001b[39mif\u001b[39;00m \u001b[39mnot\u001b[39;00m (client_flags \u001b[39m&\u001b[39m ClientFlag\u001b[39m.\u001b[39mCONNECT_WITH_DB) \u001b[39mand\u001b[39;00m database:\n\u001b[0;32m    147\u001b[0m     \u001b[39mself\u001b[39m\u001b[39m.\u001b[39mcmd_init_db(database)\n",
      "File \u001b[1;32mc:\\Users\\highc\\AppData\\Local\\Programs\\Python\\Python38\\lib\\site-packages\\mysql\\connector\\connection.py:177\u001b[0m, in \u001b[0;36mMySQLConnection._auth_switch_request\u001b[1;34m(self, username, password)\u001b[0m\n\u001b[0;32m    175\u001b[0m         auth_data \u001b[39m=\u001b[39m \u001b[39mself\u001b[39m\u001b[39m.\u001b[39m_protocol\u001b[39m.\u001b[39mparse_auth_more_data(packet)\n\u001b[0;32m    176\u001b[0m \u001b[39melif\u001b[39;00m packet[\u001b[39m4\u001b[39m] \u001b[39m==\u001b[39m \u001b[39m255\u001b[39m:\n\u001b[1;32m--> 177\u001b[0m     \u001b[39mraise\u001b[39;00m errors\u001b[39m.\u001b[39mget_exception(packet)\n",
      "\u001b[1;31mProgrammingError\u001b[0m: 1045 (28000): Access denied for user 'root'@'localhost' (using password: YES)"
     ]
    }
   ],
   "source": [
    "import mysql.connector\n",
    "import pandas as pd\n",
    "import openpyxl\n",
    "\n",
    "local = mysql.connector.connect(\n",
    "            host = \"localhost\",\n",
    "            # port = 3306,\n",
    "            user = \"root\",\n",
    "            password = \"dark##2993\",\n",
    "            database = \"stock_db\"\n",
    "            )"
   ]
  }
 ],
 "metadata": {
  "kernelspec": {
   "display_name": "Python 3",
   "language": "python",
   "name": "python3"
  },
  "language_info": {
   "codemirror_mode": {
    "name": "ipython",
    "version": 3
   },
   "file_extension": ".py",
   "mimetype": "text/x-python",
   "name": "python",
   "nbconvert_exporter": "python",
   "pygments_lexer": "ipython3",
   "version": "3.8.5"
  },
  "orig_nbformat": 4
 },
 "nbformat": 4,
 "nbformat_minor": 2
}
