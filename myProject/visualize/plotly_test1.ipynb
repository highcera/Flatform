{
 "cells": [
  {
   "cell_type": "code",
   "execution_count": null,
   "metadata": {},
   "outputs": [
    {
     "ename": "",
     "evalue": "",
     "output_type": "error",
     "traceback": [
      "\u001b[1;31mThe kernel failed to start due to an error with the 'pyzmq' module. Consider re-installing this module.\n",
      "\u001b[1;31mClick <a href='https://aka.ms/kernelFailuresPyzmq'>here</a> for more info."
     ]
    }
   ],
   "source": [
    "# dash, 전처리와 시각화를 위한 패키지\n",
    "import pandas as pd\n",
    "\n",
    "import matplotlib.pyplot as plt\n",
    "plt.rcParams['font.family'] = 'Malgun Gothic'\n",
    "\n",
    "import matplotlib as mpl\n",
    "mpl.rcParams['axes.unicode_minus'] = False\n",
    "\n",
    "%matplotlib inline\n",
    "\n",
    "import seaborn as sns\n",
    "import numpy as np\n",
    "from scipy import stats"
   ]
  },
  {
   "cell_type": "code",
   "execution_count": 2,
   "metadata": {},
   "outputs": [
    {
     "ename": "ModuleNotFoundError",
     "evalue": "No module named 'dash.dcc'; 'dash' is not a package",
     "output_type": "error",
     "traceback": [
      "\u001b[1;31m---------------------------------------------------------------------------\u001b[0m",
      "\u001b[1;31mModuleNotFoundError\u001b[0m                       Traceback (most recent call last)",
      "Cell \u001b[1;32mIn[2], line 1\u001b[0m\n\u001b[1;32m----> 1\u001b[0m \u001b[39mfrom\u001b[39;00m \u001b[39mdash\u001b[39;00m \u001b[39mimport\u001b[39;00m Dash, html, dcc, Input, Output, callback, dash_table\n\u001b[0;32m      2\u001b[0m \u001b[39mimport\u001b[39;00m \u001b[39mpandas\u001b[39;00m \u001b[39mas\u001b[39;00m \u001b[39mpd\u001b[39;00m\n\u001b[0;32m      3\u001b[0m \u001b[39mimport\u001b[39;00m \u001b[39mplotly\u001b[39;00m\u001b[39m.\u001b[39;00m\u001b[39mexpress\u001b[39;00m \u001b[39mas\u001b[39;00m \u001b[39mpx\u001b[39;00m\n",
      "File \u001b[1;32mc:\\Flatform\\myProject\\visualize\\dash.py:2\u001b[0m\n\u001b[0;32m      1\u001b[0m \u001b[39mimport\u001b[39;00m \u001b[39mdash\u001b[39;00m\n\u001b[1;32m----> 2\u001b[0m \u001b[39mimport\u001b[39;00m \u001b[39mdash_core_components\u001b[39;00m \u001b[39mas\u001b[39;00m \u001b[39mdcc\u001b[39;00m\n\u001b[0;32m      3\u001b[0m \u001b[39mimport\u001b[39;00m \u001b[39mdash_html_components\u001b[39;00m \u001b[39mas\u001b[39;00m \u001b[39mhtml\u001b[39;00m\n\u001b[0;32m      4\u001b[0m \u001b[39mimport\u001b[39;00m \u001b[39mplotly\u001b[39;00m\u001b[39m.\u001b[39;00m\u001b[39mexpress\u001b[39;00m \u001b[39mas\u001b[39;00m \u001b[39mpx\u001b[39;00m\n",
      "File \u001b[1;32m~\\AppData\\Roaming\\Python\\Python38\\site-packages\\dash_core_components\\__init__.py:1\u001b[0m\n\u001b[1;32m----> 1\u001b[0m \u001b[39mfrom\u001b[39;00m \u001b[39mdash\u001b[39;00m\u001b[39m.\u001b[39;00m\u001b[39mdcc\u001b[39;00m \u001b[39mimport\u001b[39;00m \u001b[39m*\u001b[39m  \u001b[39m# noqa: F401, F403, E402\u001b[39;00m\n\u001b[0;32m      2\u001b[0m \u001b[39mfrom\u001b[39;00m \u001b[39mdash\u001b[39;00m\u001b[39m.\u001b[39;00m\u001b[39mdcc\u001b[39;00m \u001b[39mimport\u001b[39;00m __version__  \u001b[39m# noqa: F401, F403, E402\u001b[39;00m\n\u001b[0;32m      3\u001b[0m \u001b[39mimport\u001b[39;00m \u001b[39mwarnings\u001b[39;00m\n",
      "\u001b[1;31mModuleNotFoundError\u001b[0m: No module named 'dash.dcc'; 'dash' is not a package"
     ]
    }
   ],
   "source": [
    "from dash import Dash, html, dcc, Input, Output, callback, dash_table\n",
    "import pandas as pd\n",
    "import plotly.express as px"
   ]
  },
  {
   "cell_type": "code",
   "execution_count": 6,
   "metadata": {},
   "outputs": [
    {
     "data": {
      "text/html": [
       "<div>\n",
       "<style scoped>\n",
       "    .dataframe tbody tr th:only-of-type {\n",
       "        vertical-align: middle;\n",
       "    }\n",
       "\n",
       "    .dataframe tbody tr th {\n",
       "        vertical-align: top;\n",
       "    }\n",
       "\n",
       "    .dataframe thead th {\n",
       "        text-align: right;\n",
       "    }\n",
       "</style>\n",
       "<table border=\"1\" class=\"dataframe\">\n",
       "  <thead>\n",
       "    <tr style=\"text-align: right;\">\n",
       "      <th></th>\n",
       "      <th>아파트명</th>\n",
       "      <th>단지분류</th>\n",
       "      <th>시군구</th>\n",
       "      <th>읍면동</th>\n",
       "      <th>복도유형</th>\n",
       "      <th>난방방식</th>\n",
       "      <th>세대수</th>\n",
       "      <th>주차대수</th>\n",
       "      <th>좌표X</th>\n",
       "      <th>좌표Y</th>\n",
       "    </tr>\n",
       "  </thead>\n",
       "  <tbody>\n",
       "    <tr>\n",
       "      <th>0</th>\n",
       "      <td>우리유앤미</td>\n",
       "      <td>아파트</td>\n",
       "      <td>동작구</td>\n",
       "      <td>흑석동</td>\n",
       "      <td>혼합식</td>\n",
       "      <td>개별난방</td>\n",
       "      <td>206</td>\n",
       "      <td>223.0</td>\n",
       "      <td>126.9596386</td>\n",
       "      <td>37.500668</td>\n",
       "    </tr>\n",
       "    <tr>\n",
       "      <th>1</th>\n",
       "      <td>송파파인타운13단지</td>\n",
       "      <td>아파트</td>\n",
       "      <td>송파구</td>\n",
       "      <td>장지동</td>\n",
       "      <td>계단식</td>\n",
       "      <td>개별난방</td>\n",
       "      <td>197</td>\n",
       "      <td>225.0</td>\n",
       "      <td>127.1291789</td>\n",
       "      <td>37.476897</td>\n",
       "    </tr>\n",
       "    <tr>\n",
       "      <th>2</th>\n",
       "      <td>오금현대백조(임대)</td>\n",
       "      <td>아파트</td>\n",
       "      <td>송파구</td>\n",
       "      <td>오금동</td>\n",
       "      <td>복도식</td>\n",
       "      <td>개별난방</td>\n",
       "      <td>153</td>\n",
       "      <td>60.0</td>\n",
       "      <td>127.1287745</td>\n",
       "      <td>37.508906</td>\n",
       "    </tr>\n",
       "    <tr>\n",
       "      <th>3</th>\n",
       "      <td>개봉건영</td>\n",
       "      <td>아파트</td>\n",
       "      <td>구로구</td>\n",
       "      <td>개봉동</td>\n",
       "      <td>계단식</td>\n",
       "      <td>개별난방</td>\n",
       "      <td>209</td>\n",
       "      <td>0.0</td>\n",
       "      <td>126.8406749</td>\n",
       "      <td>37.501162</td>\n",
       "    </tr>\n",
       "    <tr>\n",
       "      <th>4</th>\n",
       "      <td>월계동원베네스트</td>\n",
       "      <td>아파트</td>\n",
       "      <td>노원구</td>\n",
       "      <td>월계동</td>\n",
       "      <td>계단식</td>\n",
       "      <td>개별난방</td>\n",
       "      <td>205</td>\n",
       "      <td>206.0</td>\n",
       "      <td>127.0582196</td>\n",
       "      <td>37.631732</td>\n",
       "    </tr>\n",
       "  </tbody>\n",
       "</table>\n",
       "</div>"
      ],
      "text/plain": [
       "         아파트명 단지분류  시군구  읍면동 복도유형  난방방식  세대수   주차대수          좌표X        좌표Y\n",
       "0       우리유앤미  아파트  동작구  흑석동  혼합식  개별난방  206  223.0  126.9596386  37.500668\n",
       "1  송파파인타운13단지  아파트  송파구  장지동  계단식  개별난방  197  225.0  127.1291789  37.476897\n",
       "2  오금현대백조(임대)  아파트  송파구  오금동  복도식  개별난방  153   60.0  127.1287745  37.508906\n",
       "3        개봉건영  아파트  구로구  개봉동  계단식  개별난방  209    0.0  126.8406749  37.501162\n",
       "4    월계동원베네스트  아파트  노원구  월계동  계단식  개별난방  205  206.0  127.0582196  37.631732"
      ]
     },
     "execution_count": 6,
     "metadata": {},
     "output_type": "execute_result"
    }
   ],
   "source": [
    "import pandas as pd\n",
    "\n",
    "data = pd.read_csv(\"서울시 공동주택 아파트 정보.csv\", encoding=\"cp949\")\n",
    "data = data.loc[:, [\n",
    "    \"k-아파트명\", \"k-단지분류(아파트,주상복합등등)\", \"주소(시군구)\", \"주소(읍면동)\", \n",
    "    \"k-복도유형\", \"k-난방방식\", \"k-전체세대수\", \"주차대수\", \"좌표X\", \"좌표Y\"]]\n",
    "data.columns = [\"아파트명\", \"단지분류\", \"시군구\", \"읍면동\", \"복도유형\", \"난방방식\", \"세대수\", \"주차대수\", \"좌표X\", \"좌표Y\"]\n",
    "data.head()"
   ]
  },
  {
   "cell_type": "code",
   "execution_count": 13,
   "metadata": {},
   "outputs": [
    {
     "ename": "ModuleNotFoundError",
     "evalue": "No module named 'dash.html'; 'dash' is not a package",
     "output_type": "error",
     "traceback": [
      "\u001b[1;31m---------------------------------------------------------------------------\u001b[0m",
      "\u001b[1;31mModuleNotFoundError\u001b[0m                       Traceback (most recent call last)",
      "Cell \u001b[1;32mIn[13], line 2\u001b[0m\n\u001b[0;32m      1\u001b[0m \u001b[39mimport\u001b[39;00m \u001b[39mplotly\u001b[39;00m\u001b[39m.\u001b[39;00m\u001b[39mexpress\u001b[39;00m \u001b[39mas\u001b[39;00m \u001b[39mpx\u001b[39;00m\n\u001b[1;32m----> 2\u001b[0m \u001b[39mimport\u001b[39;00m \u001b[39mdash_core_components\u001b[39;00m \u001b[39mas\u001b[39;00m \u001b[39mdcc\u001b[39;00m \n\u001b[0;32m      3\u001b[0m \u001b[39mimport\u001b[39;00m \u001b[39mdash_html_components\u001b[39;00m \u001b[39mas\u001b[39;00m \u001b[39mhtml\u001b[39;00m \n\u001b[0;32m      4\u001b[0m \u001b[39mfrom\u001b[39;00m \u001b[39mdash\u001b[39;00m\u001b[39m.\u001b[39;00m\u001b[39mdependencies\u001b[39;00m \u001b[39mimport\u001b[39;00m Input, Output\n",
      "File \u001b[1;32m~\\AppData\\Roaming\\Python\\Python38\\site-packages\\dash_core_components\\__init__.py:1\u001b[0m\n\u001b[1;32m----> 1\u001b[0m \u001b[39mfrom\u001b[39;00m \u001b[39mdash\u001b[39;00m\u001b[39m.\u001b[39;00m\u001b[39mdcc\u001b[39;00m \u001b[39mimport\u001b[39;00m \u001b[39m*\u001b[39m  \u001b[39m# noqa: F401, F403, E402\u001b[39;00m\n\u001b[0;32m      2\u001b[0m \u001b[39mfrom\u001b[39;00m \u001b[39mdash\u001b[39;00m\u001b[39m.\u001b[39;00m\u001b[39mdcc\u001b[39;00m \u001b[39mimport\u001b[39;00m __version__  \u001b[39m# noqa: F401, F403, E402\u001b[39;00m\n\u001b[0;32m      3\u001b[0m \u001b[39mimport\u001b[39;00m \u001b[39mwarnings\u001b[39;00m\n",
      "File \u001b[1;32mc:\\Flatform\\myProject\\visualize\\dash.py:3\u001b[0m\n\u001b[0;32m      1\u001b[0m \u001b[39mimport\u001b[39;00m \u001b[39mdash\u001b[39;00m\n\u001b[0;32m      2\u001b[0m \u001b[39mimport\u001b[39;00m \u001b[39mdash_core_components\u001b[39;00m \u001b[39mas\u001b[39;00m \u001b[39mdcc\u001b[39;00m\n\u001b[1;32m----> 3\u001b[0m \u001b[39mimport\u001b[39;00m \u001b[39mdash_html_components\u001b[39;00m \u001b[39mas\u001b[39;00m \u001b[39mhtml\u001b[39;00m\n\u001b[0;32m      4\u001b[0m \u001b[39mimport\u001b[39;00m \u001b[39mplotly\u001b[39;00m\u001b[39m.\u001b[39;00m\u001b[39mexpress\u001b[39;00m \u001b[39mas\u001b[39;00m \u001b[39mpx\u001b[39;00m\n\u001b[0;32m      5\u001b[0m \u001b[39mimport\u001b[39;00m \u001b[39mpandas\u001b[39;00m \u001b[39mas\u001b[39;00m \u001b[39mpd\u001b[39;00m\n",
      "File \u001b[1;32m~\\AppData\\Roaming\\Python\\Python38\\site-packages\\dash_html_components\\__init__.py:1\u001b[0m\n\u001b[1;32m----> 1\u001b[0m \u001b[39mfrom\u001b[39;00m \u001b[39mdash\u001b[39;00m\u001b[39m.\u001b[39;00m\u001b[39mhtml\u001b[39;00m \u001b[39mimport\u001b[39;00m \u001b[39m*\u001b[39m  \u001b[39m# noqa: F401, F403, E402\u001b[39;00m\n\u001b[0;32m      2\u001b[0m \u001b[39mfrom\u001b[39;00m \u001b[39mdash\u001b[39;00m\u001b[39m.\u001b[39;00m\u001b[39mhtml\u001b[39;00m \u001b[39mimport\u001b[39;00m __version__  \u001b[39m# noqa: F401, F403, E402\u001b[39;00m\n\u001b[0;32m      3\u001b[0m \u001b[39mimport\u001b[39;00m \u001b[39mwarnings\u001b[39;00m\n",
      "\u001b[1;31mModuleNotFoundError\u001b[0m: No module named 'dash.html'; 'dash' is not a package"
     ]
    }
   ],
   "source": [
    "import plotly.express as px\n",
    "import dash_core_components as dcc \n",
    "import dash_html_components as html \n",
    "from dash.dependencies import Input, Output\n",
    "\n",
    "import pandas as pd\n",
    "\n",
    "# 앱 초기화\n",
    "app = Dash(__name__)\n",
    "\n",
    "# 그래프 정의\n",
    "fig = px.box(\n",
    "    data, x=\"시군구\", y=\"세대수\"\n",
    ")\n",
    "\n",
    "# 레이아웃 정의\n",
    "# app.layout = html.Div(children=[\n",
    "#     html.H1(\n",
    "#         children=\"서울시 공동주택 아파트 정보\",\n",
    "#         style={\"textAlign\": \"center\"}\n",
    "#     ),\n",
    "#     html.H4(\n",
    "#         children=\"시군구별 세대수 분포\", \n",
    "#     ),\n",
    "#     dcc.Graph(\n",
    "#         id=\"graph\",\n",
    "#         figure=fig\n",
    "#     ),\n",
    "# ], style={\"width\": \"90%\", \"margin\": \"auto\"})\n",
    "\n",
    "if __name__ == '__main__':\n",
    "    app.run_server(debug=True)"
   ]
  },
  {
   "cell_type": "code",
   "execution_count": null,
   "metadata": {},
   "outputs": [],
   "source": []
  }
 ],
 "metadata": {
  "kernelspec": {
   "display_name": "Python 3",
   "language": "python",
   "name": "python3"
  },
  "language_info": {
   "codemirror_mode": {
    "name": "ipython",
    "version": 3
   },
   "file_extension": ".py",
   "mimetype": "text/x-python",
   "name": "python",
   "nbconvert_exporter": "python",
   "pygments_lexer": "ipython3",
   "version": "3.8.5"
  },
  "orig_nbformat": 4
 },
 "nbformat": 4,
 "nbformat_minor": 2
}
